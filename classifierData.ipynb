{
 "cells": [
  {
   "attachments": {},
   "cell_type": "markdown",
   "metadata": {},
   "source": [
    "# Подготовка датасетов\n",
    "\n",
    "Мы собрали несколько датасетов на русском языке, направленных преимущественно на задачи STS, среди которых:\n",
    "- https://huggingface.co/datasets/sberquad\n",
    "- https://huggingface.co/datasets/RussianNLP/russian_super_glue\n",
    "<!-- - https://github.com/vladislavneon/RuBQ/tree/master/RuBQ_2.0 -->\n",
    "\n"
   ]
  },
  {
   "cell_type": "markdown",
   "metadata": {},
   "source": [
    "# Подготовка датасета для обучения"
   ]
  },
  {
   "cell_type": "code",
   "execution_count": null,
   "metadata": {},
   "outputs": [],
   "source": [
    "import random\n",
    "from datasets import load_dataset\n",
    "import pandas as pd"
   ]
  },
  {
   "cell_type": "code",
   "execution_count": null,
   "metadata": {},
   "outputs": [],
   "source": [
    "dataset_RSG_danetqa = load_dataset(\"RussianNLP/russian_super_glue\", name='danetqa')\n",
    "dataset_RSG_muserc = load_dataset(\"RussianNLP/russian_super_glue\", name='muserc')\n",
    "dataset_SQ = load_dataset(\"sberquad\")"
   ]
  },
  {
   "cell_type": "code",
   "execution_count": null,
   "metadata": {},
   "outputs": [],
   "source": [
    "train_data = pd.DataFrame()"
   ]
  },
  {
   "cell_type": "code",
   "execution_count": null,
   "metadata": {},
   "outputs": [],
   "source": [
    "muserc = pd.concat([dataset_RSG_muserc['train'].to_pandas().rename(columns = {'paragraph':'context'}), \n",
    "                    dataset_RSG_muserc['validation'].to_pandas().rename(columns = {'paragraph':'context'})])"
   ]
  },
  {
   "cell_type": "code",
   "execution_count": null,
   "metadata": {},
   "outputs": [],
   "source": [
    "muserc = muserc[['question', 'context']]"
   ]
  },
  {
   "cell_type": "code",
   "execution_count": null,
   "metadata": {},
   "outputs": [],
   "source": [
    "muserc.size"
   ]
  },
  {
   "cell_type": "code",
   "execution_count": null,
   "metadata": {},
   "outputs": [],
   "source": [
    "muserc.drop_duplicates(inplace=True)"
   ]
  },
  {
   "cell_type": "code",
   "execution_count": null,
   "metadata": {},
   "outputs": [],
   "source": [
    "muserc['label'] = 1"
   ]
  },
  {
   "cell_type": "code",
   "execution_count": null,
   "metadata": {},
   "outputs": [],
   "source": [
    "muserc['context'] = muserc['context'].str.replace(r'\\(\\d+\\)\\s*', '', regex=True)"
   ]
  },
  {
   "cell_type": "code",
   "execution_count": null,
   "metadata": {},
   "outputs": [],
   "source": [
    "danetqa = pd.concat([dataset_RSG_danetqa['train'].to_pandas()[['question', 'passage', 'label']].rename(columns = {'passage':'context'}), \n",
    "                     dataset_RSG_danetqa['validation'].to_pandas()[['question', 'passage', 'label']].rename(columns = {'passage':'context'})])"
   ]
  },
  {
   "cell_type": "code",
   "execution_count": null,
   "metadata": {},
   "outputs": [],
   "source": [
    "print(danetqa.shape)\n",
    "print(muserc.shape)"
   ]
  },
  {
   "cell_type": "code",
   "execution_count": null,
   "metadata": {},
   "outputs": [],
   "source": [
    "train_data = pd.concat([train_data,\n",
    "                        muserc,\n",
    "                        danetqa], ignore_index=True)"
   ]
  },
  {
   "cell_type": "code",
   "execution_count": null,
   "metadata": {},
   "outputs": [],
   "source": [
    "train_data.shape"
   ]
  },
  {
   "cell_type": "code",
   "execution_count": null,
   "metadata": {},
   "outputs": [],
   "source": [
    "# берем данные из датасетов, в которых все пары вопрос-ответ правильные\n",
    "to_shafle = pd.concat([dataset_SQ,\n",
    "                       muserc], ignore_index=True)\n",
    "to_shafle.shape"
   ]
  },
  {
   "attachments": {},
   "cell_type": "markdown",
   "metadata": {},
   "source": [
    "### Negative sampling\n",
    "\n",
    "Удаляем повторяющиеся контексты, чтобы при перемешивании не было правильных вариантов"
   ]
  },
  {
   "cell_type": "markdown",
   "metadata": {},
   "source": [
    "Перемешиваем ответы на вопрос так, чтобы в соответствие каждому вопросу был поставлен неправильный(случайный) ответ"
   ]
  },
  {
   "cell_type": "code",
   "execution_count": null,
   "metadata": {},
   "outputs": [],
   "source": [
    "shuffled_context = to_shafle['context'].to_list()\n",
    "random.shuffle(shuffled_context)\n",
    "to_shafle['shuffled_context'] = shuffled_context"
   ]
  },
  {
   "cell_type": "code",
   "execution_count": null,
   "metadata": {},
   "outputs": [],
   "source": [
    "to_shafle[to_shafle['context']==to_shafle['shuffled_context']]"
   ]
  },
  {
   "cell_type": "code",
   "execution_count": null,
   "metadata": {},
   "outputs": [],
   "source": [
    "# Удалить повторяющиеся колонки при необходимости\n",
    "\n",
    "to_shafle = to_shafle.drop([24165, 35062])"
   ]
  },
  {
   "cell_type": "markdown",
   "metadata": {},
   "source": [
    "Всем строкам ставим label=0"
   ]
  },
  {
   "cell_type": "code",
   "execution_count": null,
   "metadata": {},
   "outputs": [],
   "source": [
    "to_shafle['label'] = 0\n",
    "to_shafle.drop(columns=['context'], inplace=True)\n",
    "to_shafle.rename(columns={'shuffled_context': 'context'}, inplace=True)\n",
    "to_shafle.head()"
   ]
  },
  {
   "cell_type": "code",
   "execution_count": null,
   "metadata": {},
   "outputs": [],
   "source": [
    "to_shafle.shape"
   ]
  },
  {
   "cell_type": "markdown",
   "metadata": {},
   "source": [
    "Объединяем датасет с правильными и неправильными парами вопрос-ответ"
   ]
  },
  {
   "cell_type": "code",
   "execution_count": null,
   "metadata": {},
   "outputs": [],
   "source": [
    "train_data = pd.concat([train_data,\n",
    "                        to_shafle], ignore_index=True)\n",
    "train_data.shape"
   ]
  },
  {
   "cell_type": "code",
   "execution_count": null,
   "metadata": {},
   "outputs": [],
   "source": [
    "train_data['label'].value_counts()"
   ]
  },
  {
   "cell_type": "code",
   "execution_count": null,
   "metadata": {},
   "outputs": [],
   "source": [
    "# Сохраним датасет\n",
    "\n",
    "train_data.to_csv('train_data.csv', index=False)"
   ]
  }
 ],
 "metadata": {
  "kernelspec": {
   "display_name": "venv",
   "language": "python",
   "name": "python3"
  },
  "language_info": {
   "codemirror_mode": {
    "name": "ipython",
    "version": 3
   },
   "file_extension": ".py",
   "mimetype": "text/x-python",
   "name": "python",
   "nbconvert_exporter": "python",
   "pygments_lexer": "ipython3",
   "version": "3.10.13"
  }
 },
 "nbformat": 4,
 "nbformat_minor": 2
}
