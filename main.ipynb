{
 "cells": [
  {
   "cell_type": "markdown",
   "metadata": {},
   "source": [
    "# Подготовка датасетов\n",
    "\n",
    "Мы собрали несколько датасетов на русском языке, направленных преимущественно на задачи STS, среди которых:\n",
    "- https://huggingface.co/datasets/sberquad\n",
    "- https://huggingface.co/datasets/RussianNLP/wikiomnia\n",
    "- https://huggingface.co/datasets/RussianNLP/russian_super_glue\n",
    "<!-- - https://github.com/vladislavneon/RuBQ/tree/master/RuBQ_2.0 -->\n",
    "\n"
   ]
  },
  {
   "cell_type": "markdown",
   "metadata": {},
   "source": [
    "# Подготовка датасета для обучения"
   ]
  },
  {
   "cell_type": "code",
   "execution_count": null,
   "metadata": {},
   "outputs": [],
   "source": [
    "# берем данные из датасетов, в которых все пары вопрос-ответ правильные\n",
    "to_shafle = pd.concat([df_SQ,\n",
    "                       df_muserc], ignore_index=True)\n",
    "to_shafle.shape"
   ]
  },
  {
   "cell_type": "markdown",
   "metadata": {},
   "source": [
    "Удаляем повторяющиеся контексты, чтобы при перемешивании не было правильных вариантов"
   ]
  },
  {
   "cell_type": "markdown",
   "metadata": {},
   "source": [
    "Перемешиваем ответы на вопрос так, чтобы в соответствие каждому вопросу был поставлен неправильный(случайный) ответ"
   ]
  },
  {
   "cell_type": "code",
   "execution_count": null,
   "metadata": {},
   "outputs": [],
   "source": [
    "import random\n",
    "\n",
    "shuffled_context = to_shafle['context'].to_list()\n",
    "random.shuffle(shuffled_context)\n",
    "to_shafle['shuffled_context'] = shuffled_context"
   ]
  },
  {
   "cell_type": "code",
   "execution_count": null,
   "metadata": {},
   "outputs": [],
   "source": [
    "to_shafle[to_shafle['context']==to_shafle['shuffled_context']]"
   ]
  },
  {
   "cell_type": "code",
   "execution_count": null,
   "metadata": {},
   "outputs": [],
   "source": [
    "# Удалить повторяющиеся колонки при необходимости\n",
    "\n",
    "to_shafle = to_shafle.drop([24165, 35062])"
   ]
  },
  {
   "cell_type": "markdown",
   "metadata": {},
   "source": [
    "Всем строкам ставим label=0"
   ]
  },
  {
   "cell_type": "code",
   "execution_count": null,
   "metadata": {},
   "outputs": [],
   "source": [
    "to_shafle['label'] = 0\n",
    "to_shafle.drop(columns=['context'], inplace=True)\n",
    "to_shafle.rename(columns={'shuffled_context': 'context'}, inplace=True)\n",
    "to_shafle.head()"
   ]
  },
  {
   "cell_type": "code",
   "execution_count": null,
   "metadata": {},
   "outputs": [],
   "source": [
    "to_shafle.shape"
   ]
  },
  {
   "cell_type": "markdown",
   "metadata": {},
   "source": [
    "Объединяем датасет с правильными и неправильными парами вопрос-ответ"
   ]
  },
  {
   "cell_type": "code",
   "execution_count": null,
   "metadata": {},
   "outputs": [],
   "source": [
    "train_data = pd.concat([train_data,\n",
    "                        to_shafle], ignore_index=True)\n",
    "train_data.shape"
   ]
  },
  {
   "cell_type": "code",
   "execution_count": null,
   "metadata": {},
   "outputs": [],
   "source": [
    "train_data['label'].value_counts()"
   ]
  },
  {
   "cell_type": "code",
   "execution_count": null,
   "metadata": {},
   "outputs": [],
   "source": [
    "# Сохраним датасет\n",
    "\n",
    "train_data.to_csv('train_data.csv', index=False)"
   ]
  },
  {
   "cell_type": "markdown",
   "metadata": {},
   "source": [
    "### Подготовка датасета для оценки\n"
   ]
  },
  {
   "cell_type": "code",
   "execution_count": null,
   "metadata": {},
   "outputs": [],
   "source": [
    "dataset_vedomosti_articles = (\"kartashoffv/vedomosti_articles\") "
   ]
  },
  {
   "cell_type": "markdown",
   "metadata": {},
   "source": [
    "## Обучение cross-encoder PyTorch"
   ]
  },
  {
   "cell_type": "markdown",
   "metadata": {},
   "source": []
  },
  {
   "cell_type": "code",
   "execution_count": null,
   "metadata": {},
   "outputs": [],
   "source": [
    "import torch\n",
    "from torch import nn\n",
    "from torch.nn import functional as F\n",
    "\n",
    "from transformers import AutoTokenizer, AutoModel\n",
    "from collections import OrderedDict\n",
    "\n",
    "\n",
    "\n",
    "class Model(nn.Module):\n",
    "    \"\"\"\n",
    "    labse - base bert-like model\n",
    "    form labse i use pooler layer as intpu\n",
    "    then classification head - binary classification to predict if this pair is TRUE question-answer\n",
    "    \"\"\"\n",
    "    def __init__(self):\n",
    "        super().__init__()\n",
    "        # self.labse  = AutoModel.from_pretrained('./LaBSE-en-ru')\n",
    "        # self.tokenizer = AutoTokenizer.from_pretrained('./LaBSE-en-ru', use_fast=True)\n",
    "        # n_dim = 768\n",
    "        # self.cls = nn.Sequential(OrderedDict(\n",
    "        #                                       [\n",
    "        #                                         ('dropout', torch.nn.Dropout(.0)),\n",
    "\n",
    "        #                                         ('fc_1' , nn.Linear(n_dim, n_dim*2)),\n",
    "        #                                         ('relu_1' , nn.GELU()),\n",
    "        #                                         ('layernorm_1' , nn.LayerNorm(n_dim*2, eps=1e-12)),\n",
    "\n",
    "        #                                         ('fc_2' , nn.Linear(n_dim*2, n_dim)),\n",
    "        #                                         ('relu_2' , nn.GELU()),\n",
    "        #                                         ('layernorm_2' , nn.LayerNorm(n_dim, eps=1e-12)),\n",
    "\n",
    "        #                                         ('fc_3' , nn.Linear(n_dim, 2, bias=False)),\n",
    "        #                                       ]\n",
    "        #                         ))\n",
    "        \n",
    "    def forward(self, text):\n",
    "        token = self.tokenizer(text, padding=True, truncation=True, return_tensors='pt').to(device)\n",
    "        model_output = self.labse(**token)\n",
    "        result = self.cls(model_output.pooler_output)\n",
    "        return result"
   ]
  },
  {
   "cell_type": "code",
   "execution_count": null,
   "metadata": {},
   "outputs": [],
   "source": [
    "from collections import OrderedDict\n",
    "\n",
    "d = OrderedDict({\"a\" : [1,2,3], \"b\" : 'abc'})"
   ]
  },
  {
   "cell_type": "code",
   "execution_count": 144,
   "metadata": {},
   "outputs": [
    {
     "data": {
      "text/plain": [
       "OrderedDict([('a', None)])"
      ]
     },
     "execution_count": 144,
     "metadata": {},
     "output_type": "execute_result"
    }
   ],
   "source": [
    "d.fromkeys('a')"
   ]
  },
  {
   "cell_type": "code",
   "execution_count": null,
   "metadata": {},
   "outputs": [],
   "source": []
  }
 ],
 "metadata": {
  "kernelspec": {
   "display_name": "venv",
   "language": "python",
   "name": "python3"
  },
  "language_info": {
   "codemirror_mode": {
    "name": "ipython",
    "version": 3
   },
   "file_extension": ".py",
   "mimetype": "text/x-python",
   "name": "python",
   "nbconvert_exporter": "python",
   "pygments_lexer": "ipython3",
   "version": "3.10.13"
  }
 },
 "nbformat": 4,
 "nbformat_minor": 2
}
